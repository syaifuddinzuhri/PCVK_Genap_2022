{
  "nbformat": 4,
  "nbformat_minor": 0,
  "metadata": {
    "colab": {
      "name": "challenge.ipynb",
      "provenance": [],
      "collapsed_sections": [],
      "authorship_tag": "ABX9TyNONPbStKTH8BzNeb0rwFBy",
      "include_colab_link": true
    },
    "kernelspec": {
      "name": "python3",
      "display_name": "Python 3"
    },
    "language_info": {
      "name": "python"
    }
  },
  "cells": [
    {
      "cell_type": "markdown",
      "metadata": {
        "id": "view-in-github",
        "colab_type": "text"
      },
      "source": [
        "<a href=\"https://colab.research.google.com/github/syaifuddinzuhri/PCVK_Genap_2022/blob/main/challenge.ipynb\" target=\"_parent\"><img src=\"https://colab.research.google.com/assets/colab-badge.svg\" alt=\"Open In Colab\"/></a>"
      ]
    },
    {
      "cell_type": "code",
      "source": [
        "import numpy as np"
      ],
      "metadata": {
        "id": "ASOv_wbG_vBh"
      },
      "execution_count": 39,
      "outputs": []
    },
    {
      "cell_type": "code",
      "execution_count": 41,
      "metadata": {
        "colab": {
          "base_uri": "https://localhost:8080/"
        },
        "id": "tb9cHzB32CqD",
        "outputId": "49613809-15b1-4d93-b3eb-1ce54ee1d051"
      },
      "outputs": [
        {
          "output_type": "stream",
          "name": "stdout",
          "text": [
            "== Matrix A ==\n",
            "[[3 2]\n",
            " [7 2]]\n",
            "\n",
            "== Matrix B ==\n",
            "[[1 6]\n",
            " [2 5]]\n",
            "\n",
            "== Hasil Perkalian Skalar ==\n",
            "[[ 3 12]\n",
            " [14 10]]\n"
          ]
        }
      ],
      "source": [
        "# PERKALIAN SAKLAR\n",
        "\n",
        "# Initial matrik a\n",
        "matrix_a = [[3,2], [7,2]]\n",
        "\n",
        "# Initial matrik b\n",
        "matrix_b = [[1,6], [2,5]]\n",
        "\n",
        "# Initial matrik hasil\n",
        "hasil = []\n",
        "\n",
        "print('== Matrix A ==')\n",
        "print(np.array(matrix_a))\n",
        "print(\"\\n== Matrix B ==\")\n",
        "print(np.array(matrix_b))\n",
        "\n",
        "print(\"\\n== Hasil Perkalian Skalar ==\")\n",
        "for x in range(0, len(matrix_a)):\n",
        "  row = []\n",
        "  for y in range(0, len(matrix_b)):\n",
        "    temp = matrix_a[x][y] * matrix_b[x][y] \n",
        "    row.append(temp)\n",
        "  hasil.append(row)\n",
        "\n",
        "print(np.array(hasil))"
      ]
    },
    {
      "cell_type": "code",
      "source": [
        "# PERKALIAN MATRIK\n",
        "\n",
        "# Initial matrik a\n",
        "matrix_a = [[3, 5, 6], [1, 5, 2], [8, 7, 5]]\n",
        "\n",
        "# Initial matrik b\n",
        "matrix_b = [[5, 1, 4], [5, 3, 5], [5, 3, 9]]\n",
        "\n",
        "# Initial matrik hasil\n",
        "hasil = []\n",
        "\n",
        "# Menghitung perkalian matrik\n",
        "for x in range(0, len(matrix_a)):\n",
        "    row = []\n",
        "    for y in range(0, len(matrix_a[0])):\n",
        "        total = 0\n",
        "        for z in range(0, len(matrix_a)):\n",
        "            total += (matrix_a[x][z] * matrix_b[z][y])\n",
        "        row.append(total)\n",
        "    hasil.append(row)\n",
        "\n",
        "print(\"\\n== Matrik A ==\")\n",
        "print(np.array(matrix_a))\n",
        "\n",
        "print(\"\\n== Matrik B ==\")\n",
        "print(np.array(matrix_b))\n",
        "\n",
        "print(\"\\n== Hasil Perkalian Matrik ==\")\n",
        "print(np.array(hasil))"
      ],
      "metadata": {
        "colab": {
          "base_uri": "https://localhost:8080/"
        },
        "id": "OxfsCBpPCEwM",
        "outputId": "9418a058-cfad-43d3-bec7-e645e080b864"
      },
      "execution_count": 43,
      "outputs": [
        {
          "output_type": "stream",
          "name": "stdout",
          "text": [
            "\n",
            "== Matrik A ==\n",
            "[[3 5 6]\n",
            " [1 5 2]\n",
            " [8 7 5]]\n",
            "\n",
            "== Matrik B ==\n",
            "[[5 1 4]\n",
            " [5 3 5]\n",
            " [5 3 9]]\n",
            "\n",
            "== Hasil Perkalian Matrik ==\n",
            "[[ 70  36  91]\n",
            " [ 40  22  47]\n",
            " [100  44 112]]\n"
          ]
        }
      ]
    }
  ]
}