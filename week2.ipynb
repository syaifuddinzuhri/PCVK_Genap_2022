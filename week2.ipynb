{
  "nbformat": 4,
  "nbformat_minor": 0,
  "metadata": {
    "colab": {
      "name": "week2.ipynb",
      "provenance": [],
      "authorship_tag": "ABX9TyM3NJxEfAxSKH+7OypIuxHg",
      "include_colab_link": true
    },
    "kernelspec": {
      "name": "python3",
      "display_name": "Python 3"
    },
    "language_info": {
      "name": "python"
    }
  },
  "cells": [
    {
      "cell_type": "markdown",
      "metadata": {
        "id": "view-in-github",
        "colab_type": "text"
      },
      "source": [
        "<a href=\"https://colab.research.google.com/github/syaifuddinzuhri/PCVK_Genap_2022/blob/main/week2.ipynb\" target=\"_parent\"><img src=\"https://colab.research.google.com/assets/colab-badge.svg\" alt=\"Open In Colab\"/></a>"
      ]
    },
    {
      "cell_type": "code",
      "execution_count": null,
      "metadata": {
        "id": "URtlHv3X2Pg4"
      },
      "outputs": [],
      "source": [
        "<img src=\"https://drive.google.com/uc?export=view&id=1nGskruGp1bNU0llrM2GY5CgaKHG_lQco\" width=\"100\" />\n",
        "<img src=\"https://drive.google.com/uc?export=view&id=1itnR7dy-nsjeEeUZI-kYF9B6HYwmf7tt\" width=\"75\" />\n",
        "\n",
        "# LAPORAN MODUL 1 - PENGOLAHAN CITRA DAN VISI KOMPUTER\n",
        "\n",
        "\n",
        "---\n",
        "\n",
        "\n",
        "**Nama : Mochammad Syaifuddin Zuhri**\n",
        "\n",
        "**NIM : 1941720013**\n",
        "\n",
        "**Kelas : TI-3C**\n",
        "\n",
        "**No. Absen : 12**\n",
        "\n",
        "---"
      ]
    }
  ]
}