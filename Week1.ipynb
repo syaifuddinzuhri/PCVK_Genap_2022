{
  "nbformat": 4,
  "nbformat_minor": 0,
  "metadata": {
    "colab": {
      "name": "Week1.ipynb",
      "provenance": [],
      "collapsed_sections": [],
      "toc_visible": true,
      "authorship_tag": "ABX9TyPv2+lD35VoF1LlzYDEeoJH",
      "include_colab_link": true
    },
    "kernelspec": {
      "name": "python3",
      "display_name": "Python 3"
    },
    "language_info": {
      "name": "python"
    }
  },
  "cells": [
    {
      "cell_type": "markdown",
      "metadata": {
        "id": "view-in-github",
        "colab_type": "text"
      },
      "source": [
        "<a href=\"https://colab.research.google.com/github/syaifuddinzuhri/PCVK_Genap_2022/blob/main/Week1.ipynb\" target=\"_parent\"><img src=\"https://colab.research.google.com/assets/colab-badge.svg\" alt=\"Open In Colab\"/></a>"
      ]
    },
    {
      "cell_type": "markdown",
      "source": [
        "# LANGKAH (Step) 1:\n",
        "\n",
        "Pada code awal, beberapa library yang akan digunakan adalah **numpy, pandas, cv2, skimage, PIL, matpolib**."
      ],
      "metadata": {
        "id": "idto88L6Gf93"
      }
    },
    {
      "cell_type": "code",
      "source": [
        "import numpy as np\n",
        "import pandas as pd\n",
        "import cv2 as cv\n",
        "from google.colab.patches import cv2_imshow # for image display\n",
        "from skimage import io\n",
        "from skimage import transform\n",
        "from PIL import Image\n",
        "import matplotlib.pylab as plt"
      ],
      "metadata": {
        "id": "KUexnfHoG4ge"
      },
      "execution_count": 2,
      "outputs": []
    }
  ]
}